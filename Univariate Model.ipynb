{
 "cells": [
  {
   "cell_type": "code",
   "execution_count": 1,
   "metadata": {},
   "outputs": [
    {
     "name": "stderr",
     "output_type": "stream",
     "text": [
      "C:\\ProgramData\\Anaconda3\\lib\\site-packages\\tensorflow\\python\\framework\\dtypes.py:526: FutureWarning: Passing (type, 1) or '1type' as a synonym of type is deprecated; in a future version of numpy, it will be understood as (type, (1,)) / '(1,)type'.\n",
      "  _np_qint8 = np.dtype([(\"qint8\", np.int8, 1)])\n",
      "C:\\ProgramData\\Anaconda3\\lib\\site-packages\\tensorflow\\python\\framework\\dtypes.py:527: FutureWarning: Passing (type, 1) or '1type' as a synonym of type is deprecated; in a future version of numpy, it will be understood as (type, (1,)) / '(1,)type'.\n",
      "  _np_quint8 = np.dtype([(\"quint8\", np.uint8, 1)])\n",
      "C:\\ProgramData\\Anaconda3\\lib\\site-packages\\tensorflow\\python\\framework\\dtypes.py:528: FutureWarning: Passing (type, 1) or '1type' as a synonym of type is deprecated; in a future version of numpy, it will be understood as (type, (1,)) / '(1,)type'.\n",
      "  _np_qint16 = np.dtype([(\"qint16\", np.int16, 1)])\n",
      "C:\\ProgramData\\Anaconda3\\lib\\site-packages\\tensorflow\\python\\framework\\dtypes.py:529: FutureWarning: Passing (type, 1) or '1type' as a synonym of type is deprecated; in a future version of numpy, it will be understood as (type, (1,)) / '(1,)type'.\n",
      "  _np_quint16 = np.dtype([(\"quint16\", np.uint16, 1)])\n",
      "C:\\ProgramData\\Anaconda3\\lib\\site-packages\\tensorflow\\python\\framework\\dtypes.py:530: FutureWarning: Passing (type, 1) or '1type' as a synonym of type is deprecated; in a future version of numpy, it will be understood as (type, (1,)) / '(1,)type'.\n",
      "  _np_qint32 = np.dtype([(\"qint32\", np.int32, 1)])\n",
      "C:\\ProgramData\\Anaconda3\\lib\\site-packages\\tensorflow\\python\\framework\\dtypes.py:535: FutureWarning: Passing (type, 1) or '1type' as a synonym of type is deprecated; in a future version of numpy, it will be understood as (type, (1,)) / '(1,)type'.\n",
      "  np_resource = np.dtype([(\"resource\", np.ubyte, 1)])\n"
     ]
    }
   ],
   "source": [
    "import numpy as np\n",
    "import pandas as pd\n",
    "import matplotlib.pyplot as plt\n",
    "%matplotlib inline\n",
    "import tensorflow as tf\n",
    "from tensorflow import feature_column\n",
    "from tensorflow.keras import layers\n",
    "from sklearn.model_selection import train_test_split"
   ]
  },
  {
   "cell_type": "code",
   "execution_count": 2,
   "metadata": {},
   "outputs": [
    {
     "data": {
      "text/html": [
       "<div>\n",
       "<style scoped>\n",
       "    .dataframe tbody tr th:only-of-type {\n",
       "        vertical-align: middle;\n",
       "    }\n",
       "\n",
       "    .dataframe tbody tr th {\n",
       "        vertical-align: top;\n",
       "    }\n",
       "\n",
       "    .dataframe thead th {\n",
       "        text-align: right;\n",
       "    }\n",
       "</style>\n",
       "<table border=\"1\" class=\"dataframe\">\n",
       "  <thead>\n",
       "    <tr style=\"text-align: right;\">\n",
       "      <th></th>\n",
       "      <th>x0</th>\n",
       "      <th>x1</th>\n",
       "      <th>x2</th>\n",
       "      <th>x3</th>\n",
       "      <th>x4</th>\n",
       "      <th>x5</th>\n",
       "      <th>x6</th>\n",
       "      <th>x7</th>\n",
       "      <th>x8</th>\n",
       "      <th>x9</th>\n",
       "      <th>...</th>\n",
       "      <th>x91</th>\n",
       "      <th>x92</th>\n",
       "      <th>x93</th>\n",
       "      <th>x94</th>\n",
       "      <th>x95</th>\n",
       "      <th>x96</th>\n",
       "      <th>x97</th>\n",
       "      <th>x98</th>\n",
       "      <th>x99</th>\n",
       "      <th>y</th>\n",
       "    </tr>\n",
       "  </thead>\n",
       "  <tbody>\n",
       "    <tr>\n",
       "      <th>0</th>\n",
       "      <td>10.142889</td>\n",
       "      <td>-15.675620</td>\n",
       "      <td>3.583176</td>\n",
       "      <td>-22.397489</td>\n",
       "      <td>27.221894</td>\n",
       "      <td>-34.110924</td>\n",
       "      <td>-0.072829</td>\n",
       "      <td>-0.544444</td>\n",
       "      <td>0.997601</td>\n",
       "      <td>-2.691778</td>\n",
       "      <td>...</td>\n",
       "      <td>1.916575</td>\n",
       "      <td>5.240820</td>\n",
       "      <td>euorpe</td>\n",
       "      <td>2.431170</td>\n",
       "      <td>0.454074</td>\n",
       "      <td>-18.572032</td>\n",
       "      <td>-14.291524</td>\n",
       "      <td>0.178579</td>\n",
       "      <td>18.110170</td>\n",
       "      <td>0</td>\n",
       "    </tr>\n",
       "    <tr>\n",
       "      <th>1</th>\n",
       "      <td>-52.214630</td>\n",
       "      <td>5.847135</td>\n",
       "      <td>-10.902843</td>\n",
       "      <td>-14.132351</td>\n",
       "      <td>20.588574</td>\n",
       "      <td>36.107322</td>\n",
       "      <td>0.115023</td>\n",
       "      <td>0.276093</td>\n",
       "      <td>-0.699168</td>\n",
       "      <td>-0.972708</td>\n",
       "      <td>...</td>\n",
       "      <td>0.370941</td>\n",
       "      <td>-3.794542</td>\n",
       "      <td>asia</td>\n",
       "      <td>2.592326</td>\n",
       "      <td>31.921833</td>\n",
       "      <td>3.317139</td>\n",
       "      <td>10.037003</td>\n",
       "      <td>-1.930870</td>\n",
       "      <td>-3.486898</td>\n",
       "      <td>0</td>\n",
       "    </tr>\n",
       "    <tr>\n",
       "      <th>2</th>\n",
       "      <td>67.718500</td>\n",
       "      <td>2.064334</td>\n",
       "      <td>12.394186</td>\n",
       "      <td>-18.667102</td>\n",
       "      <td>47.465504</td>\n",
       "      <td>-50.373658</td>\n",
       "      <td>0.253707</td>\n",
       "      <td>1.068968</td>\n",
       "      <td>2.939713</td>\n",
       "      <td>2.691218</td>\n",
       "      <td>...</td>\n",
       "      <td>1.449817</td>\n",
       "      <td>12.470532</td>\n",
       "      <td>asia</td>\n",
       "      <td>7.143821</td>\n",
       "      <td>9.401490</td>\n",
       "      <td>-10.604968</td>\n",
       "      <td>7.643215</td>\n",
       "      <td>-0.842198</td>\n",
       "      <td>-79.358236</td>\n",
       "      <td>0</td>\n",
       "    </tr>\n",
       "    <tr>\n",
       "      <th>3</th>\n",
       "      <td>-28.003111</td>\n",
       "      <td>8.565128</td>\n",
       "      <td>-8.592092</td>\n",
       "      <td>5.918960</td>\n",
       "      <td>-3.224154</td>\n",
       "      <td>78.315783</td>\n",
       "      <td>-0.879845</td>\n",
       "      <td>1.176889</td>\n",
       "      <td>-2.414752</td>\n",
       "      <td>0.589646</td>\n",
       "      <td>...</td>\n",
       "      <td>-3.274733</td>\n",
       "      <td>3.484450</td>\n",
       "      <td>asia</td>\n",
       "      <td>-4.998195</td>\n",
       "      <td>-20.312810</td>\n",
       "      <td>14.818524</td>\n",
       "      <td>-9.180674</td>\n",
       "      <td>1.356972</td>\n",
       "      <td>14.475681</td>\n",
       "      <td>0</td>\n",
       "    </tr>\n",
       "    <tr>\n",
       "      <th>4</th>\n",
       "      <td>80.703016</td>\n",
       "      <td>30.736353</td>\n",
       "      <td>-30.101857</td>\n",
       "      <td>-21.201140</td>\n",
       "      <td>-91.946233</td>\n",
       "      <td>-47.469246</td>\n",
       "      <td>-0.646831</td>\n",
       "      <td>-0.578398</td>\n",
       "      <td>0.980849</td>\n",
       "      <td>-1.426112</td>\n",
       "      <td>...</td>\n",
       "      <td>-0.644261</td>\n",
       "      <td>4.082783</td>\n",
       "      <td>asia</td>\n",
       "      <td>-0.012556</td>\n",
       "      <td>-29.334324</td>\n",
       "      <td>1.734433</td>\n",
       "      <td>-12.262072</td>\n",
       "      <td>-0.043228</td>\n",
       "      <td>-19.003881</td>\n",
       "      <td>0</td>\n",
       "    </tr>\n",
       "  </tbody>\n",
       "</table>\n",
       "<p>5 rows × 101 columns</p>\n",
       "</div>"
      ],
      "text/plain": [
       "          x0         x1         x2         x3         x4         x5        x6  \\\n",
       "0  10.142889 -15.675620   3.583176 -22.397489  27.221894 -34.110924 -0.072829   \n",
       "1 -52.214630   5.847135 -10.902843 -14.132351  20.588574  36.107322  0.115023   \n",
       "2  67.718500   2.064334  12.394186 -18.667102  47.465504 -50.373658  0.253707   \n",
       "3 -28.003111   8.565128  -8.592092   5.918960  -3.224154  78.315783 -0.879845   \n",
       "4  80.703016  30.736353 -30.101857 -21.201140 -91.946233 -47.469246 -0.646831   \n",
       "\n",
       "         x7        x8        x9  ...       x91        x92     x93       x94  \\\n",
       "0 -0.544444  0.997601 -2.691778  ...  1.916575   5.240820  euorpe  2.431170   \n",
       "1  0.276093 -0.699168 -0.972708  ...  0.370941  -3.794542    asia  2.592326   \n",
       "2  1.068968  2.939713  2.691218  ...  1.449817  12.470532    asia  7.143821   \n",
       "3  1.176889 -2.414752  0.589646  ... -3.274733   3.484450    asia -4.998195   \n",
       "4 -0.578398  0.980849 -1.426112  ... -0.644261   4.082783    asia -0.012556   \n",
       "\n",
       "         x95        x96        x97       x98        x99  y  \n",
       "0   0.454074 -18.572032 -14.291524  0.178579  18.110170  0  \n",
       "1  31.921833   3.317139  10.037003 -1.930870  -3.486898  0  \n",
       "2   9.401490 -10.604968   7.643215 -0.842198 -79.358236  0  \n",
       "3 -20.312810  14.818524  -9.180674  1.356972  14.475681  0  \n",
       "4 -29.334324   1.734433 -12.262072 -0.043228 -19.003881  0  \n",
       "\n",
       "[5 rows x 101 columns]"
      ]
     },
     "execution_count": 2,
     "metadata": {},
     "output_type": "execute_result"
    }
   ],
   "source": [
    "raw_data=pd.read_csv(\"train.csv\")\n",
    "raw_data.head()"
   ]
  },
  {
   "cell_type": "code",
   "execution_count": 3,
   "metadata": {},
   "outputs": [
    {
     "data": {
      "text/html": [
       "<div>\n",
       "<style scoped>\n",
       "    .dataframe tbody tr th:only-of-type {\n",
       "        vertical-align: middle;\n",
       "    }\n",
       "\n",
       "    .dataframe tbody tr th {\n",
       "        vertical-align: top;\n",
       "    }\n",
       "\n",
       "    .dataframe thead th {\n",
       "        text-align: right;\n",
       "    }\n",
       "</style>\n",
       "<table border=\"1\" class=\"dataframe\">\n",
       "  <thead>\n",
       "    <tr style=\"text-align: right;\">\n",
       "      <th></th>\n",
       "      <th>x0</th>\n",
       "      <th>x1</th>\n",
       "      <th>x2</th>\n",
       "      <th>x3</th>\n",
       "      <th>x4</th>\n",
       "      <th>x5</th>\n",
       "      <th>x6</th>\n",
       "      <th>x7</th>\n",
       "      <th>x8</th>\n",
       "      <th>x9</th>\n",
       "      <th>...</th>\n",
       "      <th>x90</th>\n",
       "      <th>x91</th>\n",
       "      <th>x92</th>\n",
       "      <th>x94</th>\n",
       "      <th>x95</th>\n",
       "      <th>x96</th>\n",
       "      <th>x97</th>\n",
       "      <th>x98</th>\n",
       "      <th>x99</th>\n",
       "      <th>y</th>\n",
       "    </tr>\n",
       "  </thead>\n",
       "  <tbody>\n",
       "    <tr>\n",
       "      <th>count</th>\n",
       "      <td>39986.000000</td>\n",
       "      <td>39990.000000</td>\n",
       "      <td>39994.000000</td>\n",
       "      <td>39990.000000</td>\n",
       "      <td>39994.000000</td>\n",
       "      <td>39990.000000</td>\n",
       "      <td>39993.000000</td>\n",
       "      <td>39987.000000</td>\n",
       "      <td>39994.000000</td>\n",
       "      <td>39993.000000</td>\n",
       "      <td>...</td>\n",
       "      <td>39993.000000</td>\n",
       "      <td>39998.000000</td>\n",
       "      <td>39994.000000</td>\n",
       "      <td>39989.000000</td>\n",
       "      <td>39993.000000</td>\n",
       "      <td>39985.000000</td>\n",
       "      <td>39993.000000</td>\n",
       "      <td>39995.000000</td>\n",
       "      <td>39987.000000</td>\n",
       "      <td>40000.000000</td>\n",
       "    </tr>\n",
       "    <tr>\n",
       "      <th>mean</th>\n",
       "      <td>8.259955</td>\n",
       "      <td>-3.249786</td>\n",
       "      <td>1.030666</td>\n",
       "      <td>-0.747566</td>\n",
       "      <td>0.283820</td>\n",
       "      <td>-1.773510</td>\n",
       "      <td>-0.000232</td>\n",
       "      <td>-0.016107</td>\n",
       "      <td>-0.651093</td>\n",
       "      <td>-0.014688</td>\n",
       "      <td>...</td>\n",
       "      <td>-14.274809</td>\n",
       "      <td>0.011390</td>\n",
       "      <td>0.003948</td>\n",
       "      <td>-0.050510</td>\n",
       "      <td>-0.007572</td>\n",
       "      <td>-0.629241</td>\n",
       "      <td>-1.986671</td>\n",
       "      <td>0.036482</td>\n",
       "      <td>1.486887</td>\n",
       "      <td>0.201175</td>\n",
       "    </tr>\n",
       "    <tr>\n",
       "      <th>std</th>\n",
       "      <td>38.374182</td>\n",
       "      <td>15.171131</td>\n",
       "      <td>24.732185</td>\n",
       "      <td>15.225730</td>\n",
       "      <td>42.240018</td>\n",
       "      <td>42.124100</td>\n",
       "      <td>1.065955</td>\n",
       "      <td>3.382644</td>\n",
       "      <td>2.947472</td>\n",
       "      <td>1.906496</td>\n",
       "      <td>...</td>\n",
       "      <td>154.038206</td>\n",
       "      <td>3.311041</td>\n",
       "      <td>8.763944</td>\n",
       "      <td>4.979690</td>\n",
       "      <td>19.238210</td>\n",
       "      <td>16.915222</td>\n",
       "      <td>14.375663</td>\n",
       "      <td>5.633052</td>\n",
       "      <td>36.926796</td>\n",
       "      <td>0.400884</td>\n",
       "    </tr>\n",
       "    <tr>\n",
       "      <th>min</th>\n",
       "      <td>-140.780478</td>\n",
       "      <td>-64.493908</td>\n",
       "      <td>-105.388182</td>\n",
       "      <td>-63.804916</td>\n",
       "      <td>-158.195975</td>\n",
       "      <td>-169.237259</td>\n",
       "      <td>-4.133490</td>\n",
       "      <td>-12.966970</td>\n",
       "      <td>-12.037625</td>\n",
       "      <td>-7.446200</td>\n",
       "      <td>...</td>\n",
       "      <td>-674.004008</td>\n",
       "      <td>-12.807938</td>\n",
       "      <td>-38.121111</td>\n",
       "      <td>-21.578977</td>\n",
       "      <td>-87.669573</td>\n",
       "      <td>-77.010252</td>\n",
       "      <td>-57.709983</td>\n",
       "      <td>-23.588876</td>\n",
       "      <td>-154.559512</td>\n",
       "      <td>0.000000</td>\n",
       "    </tr>\n",
       "    <tr>\n",
       "      <th>25%</th>\n",
       "      <td>-17.800204</td>\n",
       "      <td>-13.458580</td>\n",
       "      <td>-15.565461</td>\n",
       "      <td>-11.078276</td>\n",
       "      <td>-28.246509</td>\n",
       "      <td>-30.391354</td>\n",
       "      <td>-0.723098</td>\n",
       "      <td>-2.299081</td>\n",
       "      <td>-2.628856</td>\n",
       "      <td>-1.299759</td>\n",
       "      <td>...</td>\n",
       "      <td>-116.645845</td>\n",
       "      <td>-2.218739</td>\n",
       "      <td>-5.925508</td>\n",
       "      <td>-3.435180</td>\n",
       "      <td>-12.895717</td>\n",
       "      <td>-11.948902</td>\n",
       "      <td>-11.686033</td>\n",
       "      <td>-3.770599</td>\n",
       "      <td>-23.559519</td>\n",
       "      <td>0.000000</td>\n",
       "    </tr>\n",
       "    <tr>\n",
       "      <th>50%</th>\n",
       "      <td>8.354662</td>\n",
       "      <td>-3.386601</td>\n",
       "      <td>1.132995</td>\n",
       "      <td>-0.714888</td>\n",
       "      <td>0.292788</td>\n",
       "      <td>-1.753365</td>\n",
       "      <td>0.001105</td>\n",
       "      <td>-0.003556</td>\n",
       "      <td>-0.659223</td>\n",
       "      <td>-0.028170</td>\n",
       "      <td>...</td>\n",
       "      <td>-11.471306</td>\n",
       "      <td>-0.006726</td>\n",
       "      <td>0.009306</td>\n",
       "      <td>-0.037111</td>\n",
       "      <td>0.124945</td>\n",
       "      <td>-0.481374</td>\n",
       "      <td>-2.026059</td>\n",
       "      <td>0.041838</td>\n",
       "      <td>1.465346</td>\n",
       "      <td>0.000000</td>\n",
       "    </tr>\n",
       "    <tr>\n",
       "      <th>75%</th>\n",
       "      <td>33.829780</td>\n",
       "      <td>6.881661</td>\n",
       "      <td>17.677615</td>\n",
       "      <td>9.552404</td>\n",
       "      <td>28.719663</td>\n",
       "      <td>26.844781</td>\n",
       "      <td>0.715844</td>\n",
       "      <td>2.259972</td>\n",
       "      <td>1.322101</td>\n",
       "      <td>1.263469</td>\n",
       "      <td>...</td>\n",
       "      <td>90.101751</td>\n",
       "      <td>2.238996</td>\n",
       "      <td>5.909011</td>\n",
       "      <td>3.299108</td>\n",
       "      <td>12.988509</td>\n",
       "      <td>10.793171</td>\n",
       "      <td>7.611660</td>\n",
       "      <td>3.840100</td>\n",
       "      <td>26.548474</td>\n",
       "      <td>0.000000</td>\n",
       "    </tr>\n",
       "    <tr>\n",
       "      <th>max</th>\n",
       "      <td>177.399176</td>\n",
       "      <td>62.906822</td>\n",
       "      <td>99.394915</td>\n",
       "      <td>59.338352</td>\n",
       "      <td>179.342581</td>\n",
       "      <td>170.894497</td>\n",
       "      <td>5.311653</td>\n",
       "      <td>16.619445</td>\n",
       "      <td>14.994937</td>\n",
       "      <td>7.300186</td>\n",
       "      <td>...</td>\n",
       "      <td>603.911528</td>\n",
       "      <td>14.982369</td>\n",
       "      <td>35.785334</td>\n",
       "      <td>20.983463</td>\n",
       "      <td>78.785164</td>\n",
       "      <td>70.182932</td>\n",
       "      <td>60.481075</td>\n",
       "      <td>22.759016</td>\n",
       "      <td>143.126382</td>\n",
       "      <td>1.000000</td>\n",
       "    </tr>\n",
       "  </tbody>\n",
       "</table>\n",
       "<p>8 rows × 95 columns</p>\n",
       "</div>"
      ],
      "text/plain": [
       "                 x0            x1            x2            x3            x4  \\\n",
       "count  39986.000000  39990.000000  39994.000000  39990.000000  39994.000000   \n",
       "mean       8.259955     -3.249786      1.030666     -0.747566      0.283820   \n",
       "std       38.374182     15.171131     24.732185     15.225730     42.240018   \n",
       "min     -140.780478    -64.493908   -105.388182    -63.804916   -158.195975   \n",
       "25%      -17.800204    -13.458580    -15.565461    -11.078276    -28.246509   \n",
       "50%        8.354662     -3.386601      1.132995     -0.714888      0.292788   \n",
       "75%       33.829780      6.881661     17.677615      9.552404     28.719663   \n",
       "max      177.399176     62.906822     99.394915     59.338352    179.342581   \n",
       "\n",
       "                 x5            x6            x7            x8            x9  \\\n",
       "count  39990.000000  39993.000000  39987.000000  39994.000000  39993.000000   \n",
       "mean      -1.773510     -0.000232     -0.016107     -0.651093     -0.014688   \n",
       "std       42.124100      1.065955      3.382644      2.947472      1.906496   \n",
       "min     -169.237259     -4.133490    -12.966970    -12.037625     -7.446200   \n",
       "25%      -30.391354     -0.723098     -2.299081     -2.628856     -1.299759   \n",
       "50%       -1.753365      0.001105     -0.003556     -0.659223     -0.028170   \n",
       "75%       26.844781      0.715844      2.259972      1.322101      1.263469   \n",
       "max      170.894497      5.311653     16.619445     14.994937      7.300186   \n",
       "\n",
       "       ...           x90           x91           x92           x94  \\\n",
       "count  ...  39993.000000  39998.000000  39994.000000  39989.000000   \n",
       "mean   ...    -14.274809      0.011390      0.003948     -0.050510   \n",
       "std    ...    154.038206      3.311041      8.763944      4.979690   \n",
       "min    ...   -674.004008    -12.807938    -38.121111    -21.578977   \n",
       "25%    ...   -116.645845     -2.218739     -5.925508     -3.435180   \n",
       "50%    ...    -11.471306     -0.006726      0.009306     -0.037111   \n",
       "75%    ...     90.101751      2.238996      5.909011      3.299108   \n",
       "max    ...    603.911528     14.982369     35.785334     20.983463   \n",
       "\n",
       "                x95           x96           x97           x98           x99  \\\n",
       "count  39993.000000  39985.000000  39993.000000  39995.000000  39987.000000   \n",
       "mean      -0.007572     -0.629241     -1.986671      0.036482      1.486887   \n",
       "std       19.238210     16.915222     14.375663      5.633052     36.926796   \n",
       "min      -87.669573    -77.010252    -57.709983    -23.588876   -154.559512   \n",
       "25%      -12.895717    -11.948902    -11.686033     -3.770599    -23.559519   \n",
       "50%        0.124945     -0.481374     -2.026059      0.041838      1.465346   \n",
       "75%       12.988509     10.793171      7.611660      3.840100     26.548474   \n",
       "max       78.785164     70.182932     60.481075     22.759016    143.126382   \n",
       "\n",
       "                  y  \n",
       "count  40000.000000  \n",
       "mean       0.201175  \n",
       "std        0.400884  \n",
       "min        0.000000  \n",
       "25%        0.000000  \n",
       "50%        0.000000  \n",
       "75%        0.000000  \n",
       "max        1.000000  \n",
       "\n",
       "[8 rows x 95 columns]"
      ]
     },
     "execution_count": 3,
     "metadata": {},
     "output_type": "execute_result"
    }
   ],
   "source": [
    "raw_data.describe()"
   ]
  },
  {
   "cell_type": "code",
   "execution_count": 4,
   "metadata": {},
   "outputs": [
    {
     "data": {
      "text/plain": [
       "<matplotlib.axes._subplots.AxesSubplot at 0x20c1b15b388>"
      ]
     },
     "execution_count": 4,
     "metadata": {},
     "output_type": "execute_result"
    },
    {
     "data": {
      "image/png": "[encoded data removed]",
      "text/plain": [
       "<Figure size 720x360 with 1 Axes>"
      ]
     },
     "metadata": {
      "needs_background": "light"
     },
     "output_type": "display_data"
    }
   ],
   "source": [
    "raw_data.plot(kind='scatter',x='x0',y='y',figsize=(10,5))"
   ]
  },
  {
   "cell_type": "code",
   "execution_count": 5,
   "metadata": {},
   "outputs": [],
   "source": [
    "raw_data[\"x93\"].replace({\n",
    "    'europe': 0,\n",
    "    'america': 1,\n",
    "    'asia': 2\n",
    "}, inplace=True)\n",
    "\n",
    "    "
   ]
  },
  {
   "cell_type": "code",
   "execution_count": 6,
   "metadata": {},
   "outputs": [],
   "source": [
    "q = raw_data[\"x93\"]"
   ]
  },
  {
   "cell_type": "code",
   "execution_count": 7,
   "metadata": {},
   "outputs": [
    {
     "name": "stdout",
     "output_type": "stream",
     "text": [
      "0        euorpe\n",
      "1             2\n",
      "2             2\n",
      "3             2\n",
      "4             2\n",
      "          ...  \n",
      "39995         2\n",
      "39996         2\n",
      "39997         1\n",
      "39998         1\n",
      "39999         2\n",
      "Name: x93, Length: 40000, dtype: object\n"
     ]
    }
   ],
   "source": [
    "print(q)"
   ]
  },
  {
   "cell_type": "code",
   "execution_count": 8,
   "metadata": {},
   "outputs": [],
   "source": [
    "raw_data[\"x68\"].replace({\n",
    "    'January': 0,\n",
    "    'Feb': 1,\n",
    "    'Mar': 2,\n",
    "    'Apr':3,\n",
    "    'May':4,\n",
    "    'Jun':5,\n",
    "    'July':6,\n",
    "    'Aug':7,\n",
    "    'sept.':8,\n",
    "    'Oct':9,\n",
    "    'Nov':10,\n",
    "    'Dec':11\n",
    "    \n",
    "}, inplace=True)\n"
   ]
  },
  {
   "cell_type": "code",
   "execution_count": 9,
   "metadata": {},
   "outputs": [],
   "source": [
    "qq = raw_data[\"x68\"]"
   ]
  },
  {
   "cell_type": "code",
   "execution_count": 10,
   "metadata": {},
   "outputs": [
    {
     "name": "stdout",
     "output_type": "stream",
     "text": [
      "0        5\n",
      "1        6\n",
      "2        6\n",
      "3        4\n",
      "4        6\n",
      "        ..\n",
      "39995    7\n",
      "39996    8\n",
      "39997    6\n",
      "39998    9\n",
      "39999    6\n",
      "Name: x68, Length: 40000, dtype: object\n"
     ]
    }
   ],
   "source": [
    "print(qq)"
   ]
  },
  {
   "cell_type": "code",
   "execution_count": 11,
   "metadata": {},
   "outputs": [],
   "source": [
    "data=pd.read_csv(\"train1.csv\")"
   ]
  },
  {
   "cell_type": "code",
   "execution_count": 12,
   "metadata": {},
   "outputs": [
    {
     "data": {
      "text/html": [
       "<div>\n",
       "<style scoped>\n",
       "    .dataframe tbody tr th:only-of-type {\n",
       "        vertical-align: middle;\n",
       "    }\n",
       "\n",
       "    .dataframe tbody tr th {\n",
       "        vertical-align: top;\n",
       "    }\n",
       "\n",
       "    .dataframe thead th {\n",
       "        text-align: right;\n",
       "    }\n",
       "</style>\n",
       "<table border=\"1\" class=\"dataframe\">\n",
       "  <thead>\n",
       "    <tr style=\"text-align: right;\">\n",
       "      <th></th>\n",
       "      <th>x0</th>\n",
       "      <th>y</th>\n",
       "    </tr>\n",
       "  </thead>\n",
       "  <tbody>\n",
       "    <tr>\n",
       "      <th>0</th>\n",
       "      <td>0.003453</td>\n",
       "      <td>-0.192192</td>\n",
       "    </tr>\n",
       "    <tr>\n",
       "      <th>1</th>\n",
       "      <td>-0.276301</td>\n",
       "      <td>-0.192192</td>\n",
       "    </tr>\n",
       "    <tr>\n",
       "      <th>2</th>\n",
       "      <td>0.261755</td>\n",
       "      <td>-0.192192</td>\n",
       "    </tr>\n",
       "    <tr>\n",
       "      <th>3</th>\n",
       "      <td>-0.167681</td>\n",
       "      <td>-0.192192</td>\n",
       "    </tr>\n",
       "    <tr>\n",
       "      <th>4</th>\n",
       "      <td>0.320008</td>\n",
       "      <td>-0.192192</td>\n",
       "    </tr>\n",
       "  </tbody>\n",
       "</table>\n",
       "</div>"
      ],
      "text/plain": [
       "         x0         y\n",
       "0  0.003453 -0.192192\n",
       "1 -0.276301 -0.192192\n",
       "2  0.261755 -0.192192\n",
       "3 -0.167681 -0.192192\n",
       "4  0.320008 -0.192192"
      ]
     },
     "execution_count": 12,
     "metadata": {},
     "output_type": "execute_result"
    }
   ],
   "source": [
    "data=(data-data.mean())/(data.max()-data.min())\n",
    "data.head()\n"
   ]
  },
  {
   "cell_type": "code",
   "execution_count": 13,
   "metadata": {},
   "outputs": [
    {
     "data": {
      "text/plain": [
       "<matplotlib.axes._subplots.AxesSubplot at 0x20c194b0b48>"
      ]
     },
     "execution_count": 13,
     "metadata": {},
     "output_type": "execute_result"
    },
    {
     "data": {
      "image/png": "[encoded data removed]",
      "text/plain": [
       "<Figure size 720x360 with 1 Axes>"
      ]
     },
     "metadata": {
      "needs_background": "light"
     },
     "output_type": "display_data"
    }
   ],
   "source": [
    "data.plot(kind='scatter',x='x0',y='y',figsize=(10,5))"
   ]
  },
  {
   "cell_type": "code",
   "execution_count": 14,
   "metadata": {},
   "outputs": [
    {
     "data": {
      "text/html": [
       "<div>\n",
       "<style scoped>\n",
       "    .dataframe tbody tr th:only-of-type {\n",
       "        vertical-align: middle;\n",
       "    }\n",
       "\n",
       "    .dataframe tbody tr th {\n",
       "        vertical-align: top;\n",
       "    }\n",
       "\n",
       "    .dataframe thead th {\n",
       "        text-align: right;\n",
       "    }\n",
       "</style>\n",
       "<table border=\"1\" class=\"dataframe\">\n",
       "  <thead>\n",
       "    <tr style=\"text-align: right;\">\n",
       "      <th></th>\n",
       "      <th>ones</th>\n",
       "      <th>x0</th>\n",
       "      <th>y</th>\n",
       "    </tr>\n",
       "  </thead>\n",
       "  <tbody>\n",
       "    <tr>\n",
       "      <th>0</th>\n",
       "      <td>1</td>\n",
       "      <td>0.003453</td>\n",
       "      <td>-0.192192</td>\n",
       "    </tr>\n",
       "    <tr>\n",
       "      <th>1</th>\n",
       "      <td>1</td>\n",
       "      <td>-0.276301</td>\n",
       "      <td>-0.192192</td>\n",
       "    </tr>\n",
       "    <tr>\n",
       "      <th>2</th>\n",
       "      <td>1</td>\n",
       "      <td>0.261755</td>\n",
       "      <td>-0.192192</td>\n",
       "    </tr>\n",
       "    <tr>\n",
       "      <th>3</th>\n",
       "      <td>1</td>\n",
       "      <td>-0.167681</td>\n",
       "      <td>-0.192192</td>\n",
       "    </tr>\n",
       "    <tr>\n",
       "      <th>4</th>\n",
       "      <td>1</td>\n",
       "      <td>0.320008</td>\n",
       "      <td>-0.192192</td>\n",
       "    </tr>\n",
       "  </tbody>\n",
       "</table>\n",
       "</div>"
      ],
      "text/plain": [
       "   ones        x0         y\n",
       "0     1  0.003453 -0.192192\n",
       "1     1 -0.276301 -0.192192\n",
       "2     1  0.261755 -0.192192\n",
       "3     1 -0.167681 -0.192192\n",
       "4     1  0.320008 -0.192192"
      ]
     },
     "execution_count": 14,
     "metadata": {},
     "output_type": "execute_result"
    }
   ],
   "source": [
    "data.shape\n",
    "data.insert(0,'ones',1)\n",
    "data.head()"
   ]
  },
  {
   "cell_type": "code",
   "execution_count": 15,
   "metadata": {},
   "outputs": [
    {
     "name": "stdout",
     "output_type": "stream",
     "text": [
      "3\n"
     ]
    }
   ],
   "source": [
    "cols=data.shape[1]\n",
    "print(cols)"
   ]
  },
  {
   "cell_type": "code",
   "execution_count": 16,
   "metadata": {},
   "outputs": [],
   "source": [
    "x=data.iloc[:,0:cols-1]\n",
    "y=data.iloc[:,cols-1:cols]"
   ]
  },
  {
   "cell_type": "code",
   "execution_count": 17,
   "metadata": {},
   "outputs": [],
   "source": [
    "x=np.matrix(x)\n",
    "y=np.matrix(y)\n",
    "theta=np.matrix(np.array([0,0]))"
   ]
  },
  {
   "cell_type": "code",
   "execution_count": 18,
   "metadata": {},
   "outputs": [
    {
     "data": {
      "text/plain": [
       "((999, 2), (1, 2), (999, 1))"
      ]
     },
     "execution_count": 18,
     "metadata": {},
     "output_type": "execute_result"
    }
   ],
   "source": [
    "x.shape,theta.shape,y.shape"
   ]
  },
  {
   "cell_type": "code",
   "execution_count": 19,
   "metadata": {},
   "outputs": [],
   "source": [
    "def computeError(x,y,theta):\n",
    "    inner=np.power(((x*theta.T)-y),2)\n",
    "    return np.sum(inner)/(2*len(x))"
   ]
  },
  {
   "cell_type": "code",
   "execution_count": 20,
   "metadata": {},
   "outputs": [
    {
     "data": {
      "text/plain": [
       "0.07762717672627581"
      ]
     },
     "execution_count": 20,
     "metadata": {},
     "output_type": "execute_result"
    }
   ],
   "source": [
    "computeError(x,y,theta)"
   ]
  },
  {
   "cell_type": "code",
   "execution_count": 21,
   "metadata": {},
   "outputs": [],
   "source": [
    "learn_rate=1\n",
    "iters=150\n",
    "def gradientDescent(x,y,theta,learn_rate,iters):\n",
    "    temp = np.matrix(np.zeros(theta.shape))\n",
    "    parameters = int(theta.ravel().shape[1])\n",
    "    cost = np.zeros(iters)\n",
    "    for i in range(iters):\n",
    "        error = (x * theta.T)-y\n",
    "        for j in range(parameters):\n",
    "            term = np.multiply(error,x[:,j])\n",
    "            temp[0,j] = theta[0,j]-((learn_rate/len(x))*np.sum(term))\n",
    "        theta = temp\n",
    "    cost[i] = computeError(x,y,theta)\n",
    "    return theta,cost"
   ]
  },
  {
   "cell_type": "code",
   "execution_count": 22,
   "metadata": {},
   "outputs": [
    {
     "name": "stdout",
     "output_type": "stream",
     "text": [
      "[[ 2.66720246e-18 -8.51527079e-02]] [0.         0.         0.         0.         0.         0.\n",
      " 0.         0.         0.         0.         0.         0.\n",
      " 0.         0.         0.         0.         0.         0.\n",
      " 0.         0.         0.         0.         0.         0.\n",
      " 0.         0.         0.         0.         0.         0.\n",
      " 0.         0.         0.         0.         0.         0.\n",
      " 0.         0.         0.         0.         0.         0.\n",
      " 0.         0.         0.         0.         0.         0.\n",
      " 0.         0.         0.         0.         0.         0.\n",
      " 0.         0.         0.         0.         0.         0.\n",
      " 0.         0.         0.         0.         0.         0.\n",
      " 0.         0.         0.         0.         0.         0.\n",
      " 0.         0.         0.         0.         0.         0.\n",
      " 0.         0.         0.         0.         0.         0.\n",
      " 0.         0.         0.         0.         0.         0.\n",
      " 0.         0.         0.         0.         0.         0.\n",
      " 0.         0.         0.         0.         0.         0.\n",
      " 0.         0.         0.         0.         0.         0.\n",
      " 0.         0.         0.         0.         0.         0.\n",
      " 0.         0.         0.         0.         0.         0.\n",
      " 0.         0.         0.         0.         0.         0.\n",
      " 0.         0.         0.         0.         0.         0.\n",
      " 0.         0.         0.         0.         0.         0.\n",
      " 0.         0.         0.         0.         0.         0.\n",
      " 0.         0.         0.         0.         0.         0.07751963]\n"
     ]
    }
   ],
   "source": [
    "new_theta, cost = gradientDescent(x,y,theta,learn_rate,iters)\n",
    "print(new_theta,cost)"
   ]
  },
  {
   "cell_type": "code",
   "execution_count": 23,
   "metadata": {},
   "outputs": [
    {
     "data": {
      "text/plain": [
       "0.07751962938525665"
      ]
     },
     "execution_count": 23,
     "metadata": {},
     "output_type": "execute_result"
    }
   ],
   "source": [
    "computeError(x,y,new_theta)"
   ]
  },
  {
   "cell_type": "code",
   "execution_count": 24,
   "metadata": {},
   "outputs": [
    {
     "name": "stdout",
     "output_type": "stream",
     "text": [
      "0      0.003453\n",
      "1     -0.276301\n",
      "2      0.261755\n",
      "3     -0.167681\n",
      "4      0.320008\n",
      "         ...   \n",
      "994    0.113495\n",
      "995   -0.022886\n",
      "996    0.089117\n",
      "997    0.107064\n",
      "998   -0.167238\n",
      "Name: x0, Length: 999, dtype: float64\n"
     ]
    }
   ],
   "source": [
    "x = data.x0\n",
    "print(x)\n",
    "Model_new = new_theta[0,0]+ (new_theta[0,1]*x)"
   ]
  },
  {
   "cell_type": "code",
   "execution_count": 25,
   "metadata": {},
   "outputs": [
    {
     "data": {
      "text/plain": [
       "Text(0, 0.5, 'y')"
      ]
     },
     "execution_count": 25,
     "metadata": {},
     "output_type": "execute_result"
    },
    {
     "data": {
      "image/png": "[encoded data removed]",
      "text/plain": [
       "<Figure size 864x576 with 1 Axes>"
      ]
     },
     "metadata": {
      "needs_background": "light"
     },
     "output_type": "display_data"
    }
   ],
   "source": [
    "fig, ax = plt.subplots(figsize=(12,8))\n",
    "ax.plot(x,Model_new,'r',label='Prediction')\n",
    "ax.scatter(data.x0,data.y,label='Training Data')\n",
    "ax.legend(loc=2)\n",
    "ax.set_xlabel('x0')\n",
    "ax.set_ylabel('y')\n"
   ]
  },
  {
   "cell_type": "code",
   "execution_count": 26,
   "metadata": {},
   "outputs": [
    {
     "data": {
      "text/plain": [
       "Text(0.5, 1.0, 'Error vs. Iterations')"
      ]
     },
     "execution_count": 26,
     "metadata": {},
     "output_type": "execute_result"
    },
    {
     "data": {
      "image/png": "[encoded data removed]",
      "text/plain": [
       "<Figure size 864x576 with 1 Axes>"
      ]
     },
     "metadata": {
      "needs_background": "light"
     },
     "output_type": "display_data"
    }
   ],
   "source": [
    "fig, ax = plt.subplots(figsize = (12,8))\n",
    "ax.plot(np.arange(iters),cost,'r')\n",
    "ax.set_xlabel('Iterations')\n",
    "ax.set_ylabel('Cost')\n",
    "ax.set_title('Error vs. Iterations')"
   ]
  },
  {
   "cell_type": "code",
   "execution_count": 27,
   "metadata": {},
   "outputs": [
    {
     "name": "stdout",
     "output_type": "stream",
     "text": [
      "error % =15.50392587705133\n",
      "accuracy%=84.49607412294867\n"
     ]
    }
   ],
   "source": [
    "import math\n",
    "erro_r = [np.power((b-a),2) for (a,b) in zip(Model_new ,y)]\n",
    "error0 = np.sum(erro_r)\n",
    "error = (error0/len(y))*100\n",
    "print(\"error % ={}\".format(error))\n",
    "accuracy = 100-error\n",
    "print(\"accuracy%={}\".format(accuracy))"
   ]
  },
  {
   "cell_type": "code",
   "execution_count": 28,
   "metadata": {},
   "outputs": [],
   "source": [
    "def predict(new_theta,accuracy):\n",
    "    x0 = float(input(\"Enter the x0 value:\"))\n",
    "    x0 = (x0 - data.x0.mean())/(data.x0.max()-data.x0.min())\n",
    "    y = (new_theta[0,0]+(new_theta[0,1]*x0))\n",
    "    Predicted = (y*(data.y.max()-data.y.min()))+(data.y.mean())\n",
    "    Max_Accuracy = (Predicted*(1/accuracy)*100)\n",
    "    size_range = Max_Accuracy - Predicted\n",
    "    return Predicted, size_range"
   ]
  },
  {
   "cell_type": "code",
   "execution_count": 29,
   "metadata": {},
   "outputs": [
    {
     "name": "stdout",
     "output_type": "stream",
     "text": [
      "Enter the x0 value:12\n",
      "Your y values is == -1.0218324946899016(+ or -) -0.18749291515464583\n"
     ]
    }
   ],
   "source": [
    "Predicted, size_range = predict(new_theta,accuracy)\n",
    "print('Your y values is == '+str(Predicted)+'(+ or -) '+str(size_range))"
   ]
  },
  {
   "cell_type": "code",
   "execution_count": null,
   "metadata": {},
   "outputs": [],
   "source": []
  },
  {
   "cell_type": "code",
   "execution_count": null,
   "metadata": {},
   "outputs": [],
   "source": []
  }
 ],
 "metadata": {
  "kernelspec": {
   "display_name": "Python 3",
   "language": "python",
   "name": "python3"
  },
  "language_info": {
   "codemirror_mode": {
    "name": "ipython",
    "version": 3
   },
   "file_extension": ".py",
   "mimetype": "text/x-python",
   "name": "python",
   "nbconvert_exporter": "python",
   "pygments_lexer": "ipython3",
   "version": "3.7.7"
  }
 },
 "nbformat": 4,
 "nbformat_minor": 4
}
