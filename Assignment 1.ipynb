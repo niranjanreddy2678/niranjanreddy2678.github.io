{
 "cells": [
  {
   "cell_type": "markdown",
   "metadata": {},
   "source": [
    "# Most Frequently Used Word in a Corpus Text Data"
   ]
  },
  {
   "cell_type": "code",
   "execution_count": 1,
   "metadata": {},
   "outputs": [],
   "source": [
    "import nltk"
   ]
  },
  {
   "cell_type": "code",
   "execution_count": 2,
   "metadata": {},
   "outputs": [
    {
     "data": {
      "text/plain": [
       "'Fellow citizens , we have assembled to repeat the public ceremonial , begun by Washington , observed by all my predecessors , and now a time - honored custom , which marks the commencement of a new term of the Presidential office . Called to the duties of this great trust , I proceed , in compliance with usage , to announce some of the leading principles , on the subjects that now chiefly engage the public attention , by which it is my desire to be guided in the discharge of those duties . I shall not undertake to lay down irrevocably principles or measures of administration , but rather to speak of the motives which should animate us , and to suggest certain important ends to be attained in accordance with our institutions and essential to the welfare of our country . At the outset of the discussions which preceded the recent Presidential election it seemed to me fitting that I should fully make known my sentiments in regard to several of the important questions which then appeared to demand the consideration of the country . Following the example , and in part adopting the language , of one of my predecessors , I wish now , when every motive for misrepresentation has passed away , to repeat what was said before the election , trusting that my countrymen will candidly weigh and understand it , and that they will feel assured that the sentiments declared in accepting the nomination for the Presidency will be the standard of my conduct in the path before me , charged , as I now am , with the grave and difficult task of carrying them out in the practical administration of the Government so far as depends , under the Constitution and laws on the Chief Executive of the nation . The permanent pacification of the country upon such principles and by such measures as will secure the complete protection of all its citizens in the free enjoyment of all their constitutional rights is now the one subject in our public affairs which all thoughtful and patriotic citizens regard as of supreme importance . Many of the calamitous efforts of the tremendous revolution which has passed over the Southern States still remain . The immeasurable benefits which will surely follow , sooner or later , the hearty and generous acceptance of the legitimate results of that revolution have not yet been realized . Difficult and embarrassing questions meet us at the threshold of this subject . The people of those States are still impoverished , and the inestimable blessing of wise , honest , and peaceful local self - government is not fully enjoyed . Whatever difference of opinion may exist as to the cause of this condition of things , the fact is clear that in the progress of events the time has come when such government is the imperative necessity required by all the varied interests , public and private , of those States . But it must not be forgotten that only a local government which recognizes and maintains inviolate the rights of all is a true self - government . With respect to the two distinct races whose peculiar relations to each other have brought upon us the deplorable complications and perplexities which exist in those States , it must be a government which guards the interests of both races carefully and equally . It must be a government which submits loyally and heartily to the Constitution and the laws -- the laws of the nation and the laws of the States themselves -- accepting and obeying faithfully the whole Constitution as it is . Resting upon this sure and substantial foundation , the superstructure of beneficent local governments can be built up , and not otherwise . In furtherance of such obedience to the letter and the spirit of the Constitution , and in behalf of all that its attainment implies , all so - called party interests lose their apparent importance , and party lines may well be permitted to fade into insignificance . The question we have to consider for the immediate welfare of those States of the Union is the question of government or no government ; of social order and all the peaceful industries and the happiness that belongs to it , or a return to barbarism . It is a question in which every citizen of the nation is deeply interested , and with respect to which we ought not to be , in a partisan sense , either Republicans or Democrats , but fellow citizens and fellowmen , to whom the interests of a common country and a common humanity are dear . The sweeping revolution of the entire labor system of a large portion of our country and the advance of 4 , 000 , 000 people from a condition of servitude to that of citizenship , upon an equal footing with their former masters , could not occur without presenting problems of the gravest moment , to be dealt with by the emancipated race , by their former masters , and by the General Government , the author of the act of emancipation . That it was a wise , just , and providential act , fraught with good for all concerned , is not generally conceded throughout the'"
      ]
     },
     "execution_count": 2,
     "metadata": {},
     "output_type": "execute_result"
    }
   ],
   "source": [
    "from nltk.corpus import inaugural\n",
    "from nltk.tokenize import sent_tokenize\n",
    "#converting list to single string str1\n",
    "text1=inaugural.words(fileids='1877-Hayes.txt')\n",
    "str1=\" \".join(text1)\n",
    "str1[:5000]"
   ]
  },
  {
   "cell_type": "code",
   "execution_count": 3,
   "metadata": {},
   "outputs": [
    {
     "data": {
      "text/plain": [
       "FreqDist({'the': 77, 'of': 56, ',': 55, 'and': 35, 'to': 27, '.': 19, 'in': 15, 'a': 14, 'which': 14, 'that': 11, ...})"
      ]
     },
     "execution_count": 3,
     "metadata": {},
     "output_type": "execute_result"
    }
   ],
   "source": [
    "# frequency distribution of words in a text\n",
    "text=''''Fellow citizens , we have assembled to repeat the public ceremonial , begun by Washington , observed by all my predecessors , and now a time - honored custom , which marks the commencement of a new term of the Presidential office . Called to the duties of this great trust , I proceed , in compliance with usage , to announce some of the leading principles , on the subjects that now chiefly engage the public attention , by which it is my desire to be guided in the discharge of those duties . I shall not undertake to lay down irrevocably principles or measures of administration , but rather to speak of the motives which should animate us , and to suggest certain important ends to be attained in accordance with our institutions and essential to the welfare of our country . At the outset of the discussions which preceded the recent Presidential election it seemed to me fitting that I should fully make known my sentiments in regard to several of the important questions which then appeared to demand the consideration of the country . Following the example , and in part adopting the language , of one of my predecessors , I wish now , when every motive for misrepresentation has passed away , to repeat what was said before the election , trusting that my countrymen will candidly weigh and understand it , and that they will feel assured that the sentiments declared in accepting the nomination for the Presidency will be the standard of my conduct in the path before me , charged , as I now am , with the grave and difficult task of carrying them out in the practical administration of the Government so far as depends , under the Constitution and laws on the Chief Executive of the nation . The permanent pacification of the country upon such principles and by such measures as will secure the complete protection of all its citizens in the free enjoyment of all their constitutional rights is now the one subject in our public affairs which all thoughtful and patriotic citizens regard as of supreme importance . Many of the calamitous efforts of the tremendous revolution which has passed over the Southern States still remain . The immeasurable benefits which will surely follow , sooner or later , the hearty and generous acceptance of the legitimate results of that revolution have not yet been realized . Difficult and embarrassing questions meet us at the threshold of this subject . The people of those States are still impoverished , and the inestimable blessing of wise , honest , and peaceful local self - government is not fully enjoyed . Whatever difference of opinion may exist as to the cause of this condition of things , the fact is clear that in the progress of events the time has come when such government is the imperative necessity required by all the varied interests , public and private , of those States . But it must not be forgotten that only a local government which recognizes and maintains inviolate the rights of all is a true self - government . With respect to the two distinct races whose peculiar relations to each other have brought upon us the deplorable complications and perplexities which exist in those States , it must be a government which guards the interests of both races carefully and equally . It must be a government which submits loyally and heartily to the Constitution and the laws -- the laws of the nation and the laws of the States themselves -- accepting and obeying faithfully the whole Constitution as it is . Resting upon this sure and substantial foundation , the superstructure of beneficent local governments can be built up , and not otherwise . In furtherance of such obedience to the letter and the spirit of the Constitution , and in behalf of all that its attainment implies , all so - called party interests lose their apparent importance , and party lines may well be permitted to fade into insignificance . The question we have to consider for the immediate welfare of those States of the Union is the question of government or no government ; of social order and all the peaceful industries and the happiness that belongs to it , or a return to barbarism . It is a question in which every citizen of the nation is deeply interested , and with respect to which we ought not to be , in a partisan sense , either Republicans or Democrats , but fellow citizens and fellowmen , to whom the interests of a common country and a common humanity are dear . The sweeping revolution of the entire labor system of a large portion of our country and the advance of 4 , 000 , 000 people from a condition of servitude to that of citizenship , upon an equal footing with their former masters , could not occur without presenting problems of the gravest moment , to be dealt with by the emancipated race , by their former masters , and by the General Government , the author of the act of emancipation . That it was a wise , just , and providential act , fraught with good for all concerned , is not generally conceded throughout the'''\n",
    "fd=nltk.FreqDist(text.split())\n",
    "fd"
   ]
  },
  {
   "cell_type": "code",
   "execution_count": 4,
   "metadata": {},
   "outputs": [
    {
     "data": {
      "text/plain": [
       "[7, 8, 1, 2, 4, 9, 6, 3, 10, 5, 12, 11, 14, 13, 17]"
      ]
     },
     "execution_count": 4,
     "metadata": {},
     "output_type": "execute_result"
    }
   ],
   "source": [
    "from nltk.probability import ConditionalFreqDist\n",
    "cfd=ConditionalFreqDist((len(word),word) for word in text.split())\n",
    "#list of conditons\n",
    "cfd.conditions()"
   ]
  },
  {
   "cell_type": "code",
   "execution_count": 5,
   "metadata": {},
   "outputs": [
    {
     "data": {
      "text/plain": [
       "FreqDist({'States': 6, 'public': 4, 'nation': 3, 'repeat': 2, 'duties': 2, 'should': 2, 'regard': 2, 'passed': 2, 'before': 2, 'rights': 2, ...})"
      ]
     },
     "execution_count": 5,
     "metadata": {},
     "output_type": "execute_result"
    }
   ],
   "source": [
    "cfd[6]"
   ]
  },
  {
   "cell_type": "code",
   "execution_count": 6,
   "metadata": {},
   "outputs": [
    {
     "data": {
      "text/plain": [
       "FreqDist({'President': 5, 'protected': 5, 'Americans': 4, 'factories': 3, 'countries': 3, 'victories': 2, 'forgotten': 2, 'righteous': 2, 'trillions': 2, 'determine': 1, ...})"
      ]
     },
     "execution_count": 6,
     "metadata": {},
     "output_type": "execute_result"
    }
   ],
   "source": [
    "inauguraldata = inaugural.words(fileids = '2017-Trump.txt')\n",
    "cdf = ConditionalFreqDist((len(word), word) for word in inauguraldata)\n",
    "cdf[9]"
   ]
  },
  {
   "cell_type": "code",
   "execution_count": 7,
   "metadata": {},
   "outputs": [],
   "source": [
    "data = []\n",
    "for words in inauguraldata:\n",
    "    if len(words)>10:\n",
    "        data.append(words)"
   ]
  },
  {
   "cell_type": "code",
   "execution_count": 8,
   "metadata": {},
   "outputs": [
    {
     "data": {
      "text/plain": [
       "FreqDist({'transferring': 2, 'magnificent': 1, 'administration': 1, 'Politicians': 1, 'establishment': 1, 'celebration': 1, 'neighborhoods': 1, 'infrastructure': 1, 'redistributed': 1, 'immigration': 1, ...})"
      ]
     },
     "execution_count": 8,
     "metadata": {},
     "output_type": "execute_result"
    }
   ],
   "source": [
    "fd = nltk.FreqDist(data)\n",
    "fd"
   ]
  },
  {
   "cell_type": "code",
   "execution_count": 9,
   "metadata": {},
   "outputs": [],
   "source": [
    "sorted_fd = sorted(fd.items(), key = lambda x:x[1])"
   ]
  },
  {
   "cell_type": "code",
   "execution_count": 10,
   "metadata": {},
   "outputs": [
    {
     "name": "stdout",
     "output_type": "stream",
     "text": [
      "[('magnificent', 1), ('administration', 1), ('Politicians', 1), ('establishment', 1), ('celebration', 1), ('neighborhoods', 1), ('infrastructure', 1), ('redistributed', 1), ('immigration', 1), ('understanding', 1), ('disagreements', 1), ('unstoppable', 1), ('enforcement', 1), ('importantly', 1), ('politicians', 1), ('complaining', 1), ('technologies', 1), ('transferring', 2)]\n"
     ]
    }
   ],
   "source": [
    "print(sorted_fd)"
   ]
  },
  {
   "cell_type": "code",
   "execution_count": 11,
   "metadata": {},
   "outputs": [],
   "source": [
    "word = list(sorted_fd)[len(sorted_fd)-1]"
   ]
  },
  {
   "cell_type": "code",
   "execution_count": 12,
   "metadata": {},
   "outputs": [
    {
     "name": "stdout",
     "output_type": "stream",
     "text": [
      "most frequently used word in this document is: ('transferring', 2)\n"
     ]
    }
   ],
   "source": [
    "print(\"most frequently used word in this document is:\", word)"
   ]
  },
  {
   "cell_type": "code",
   "execution_count": null,
   "metadata": {},
   "outputs": [],
   "source": []
  }
 ],
 "metadata": {
  "kernelspec": {
   "display_name": "Python 3",
   "language": "python",
   "name": "python3"
  },
  "language_info": {
   "codemirror_mode": {
    "name": "ipython",
    "version": 3
   },
   "file_extension": ".py",
   "mimetype": "text/x-python",
   "name": "python",
   "nbconvert_exporter": "python",
   "pygments_lexer": "ipython3",
   "version": "3.7.6"
  }
 },
 "nbformat": 4,
 "nbformat_minor": 4
}
